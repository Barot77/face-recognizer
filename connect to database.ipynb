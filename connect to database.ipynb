{
 "cells": [
  {
   "cell_type": "code",
   "execution_count": 6,
   "id": "2bf10633-1b1f-4805-9539-498c66ce8f33",
   "metadata": {},
   "outputs": [
    {
     "name": "stdout",
     "output_type": "stream",
     "text": [
      "Retrieving notices: done\n",
      "Channels:\n",
      " - anaconda\n",
      " - defaults\n",
      "Platform: osx-arm64\n",
      "Collecting package metadata (repodata.json): done\n",
      "Solving environment: done\n",
      "\n",
      "# All requested packages already installed.\n",
      "\n",
      "\n",
      "Note: you may need to restart the kernel to use updated packages.\n"
     ]
    }
   ],
   "source": [
    "conda install -c anaconda mysql-connector-python"
   ]
  },
  {
   "cell_type": "code",
   "execution_count": 4,
   "id": "19ce5525-15e0-4911-9387-9be1e4424c7c",
   "metadata": {},
   "outputs": [],
   "source": [
    "import mysql.connector\n",
    "import os"
   ]
  },
  {
   "cell_type": "code",
   "execution_count": 6,
   "id": "24a6d6d4-e3da-4900-8f7b-af84bf331d62",
   "metadata": {},
   "outputs": [
    {
     "name": "stdout",
     "output_type": "stream",
     "text": [
      "<mysql.connector.connection.MySQLConnection object at 0x13fccf470>\n"
     ]
    }
   ],
   "source": [
    "mydb=mysql.connector.connect(\n",
    "host=\"localhost\",\n",
    "user=\"root\", \n",
    "password=\"Gauri@123\",\n",
    ")\n",
    "print(mydb)"
   ]
  },
  {
   "cell_type": "code",
   "execution_count": 8,
   "id": "c3f6a119-19d6-4f2f-ae72-85f52271ed1a",
   "metadata": {},
   "outputs": [
    {
     "name": "stdout",
     "output_type": "stream",
     "text": [
      "<mysql.connector.connection.MySQLConnection object at 0x13fccf470>\n"
     ]
    }
   ],
   "source": [
    "print(mydb)"
   ]
  },
  {
   "cell_type": "code",
   "execution_count": 24,
   "id": "87eaee4f-75ab-4021-94ea-f7efec38dc9e",
   "metadata": {},
   "outputs": [],
   "source": [
    "mycursor=mydb.cursor()"
   ]
  },
  {
   "cell_type": "code",
   "execution_count": 28,
   "id": "c496c983-721a-494f-b09c-17c0940abbbc",
   "metadata": {},
   "outputs": [],
   "source": [
    "mycursor=mydb.cursor()\n",
    "mycursor.execute(\"CREATE DATABASE Authorized_user\")"
   ]
  },
  {
   "cell_type": "code",
   "execution_count": 30,
   "id": "dfd69446-fe1b-4cf9-b179-fdd4769de9e7",
   "metadata": {},
   "outputs": [
    {
     "name": "stdout",
     "output_type": "stream",
     "text": [
      "('Authorized_user',)\n",
      "('information_schema',)\n",
      "('mysql',)\n",
      "('performance_schema',)\n",
      "('sys',)\n"
     ]
    }
   ],
   "source": [
    "mycursor.execute(\"SHOW DATABASES\")\n",
    "for x in mycursor:\n",
    "    print(x)"
   ]
  },
  {
   "cell_type": "code",
   "execution_count": 32,
   "id": "d32951f1-458e-4e1f-a0e2-3f25dac24fd2",
   "metadata": {},
   "outputs": [
    {
     "name": "stdout",
     "output_type": "stream",
     "text": [
      "Table created successfully!\n"
     ]
    }
   ],
   "source": [
    "import mysql.connector\n",
    "\n",
    "# Connect to MySQL\n",
    "conn = mysql.connector.connect(\n",
    "    host=\"localhost\",\n",
    "    user=\"root\",\n",
    "    password=\"Gauri@123\",\n",
    "    database=\"Authorized_user\"  # Ensure this database exists\n",
    ")\n",
    "\n",
    "mycursor = conn.cursor()\n",
    "\n",
    "# Create table (fixed column naming issue)\n",
    "mycursor.execute(\"\"\"\n",
    "    CREATE TABLE my_table (\n",
    "        id INT PRIMARY KEY, \n",
    "        Name VARCHAR(50), \n",
    "        Age INT, \n",
    "        `address` VARCHAR(50)  -- Using backticks to avoid conflicts\n",
    "    )\n",
    "\"\"\")\n",
    "\n",
    "print(\"Table created successfully!\")\n",
    "\n",
    "# Commit changes and close the connection\n",
    "conn.commit()\n",
    "conn.close()\n"
   ]
  },
  {
   "cell_type": "code",
   "execution_count": 34,
   "id": "c77c5288-d5bf-4819-bf5e-2cb35a695705",
   "metadata": {},
   "outputs": [
    {
     "name": "stdout",
     "output_type": "stream",
     "text": [
      "\n",
      "Tables in the database:\n",
      "-----------------------\n",
      "my_table\n",
      "\n",
      "MySQL connection closed.\n"
     ]
    }
   ],
   "source": [
    "import mysql.connector\n",
    "\n",
    "try:\n",
    "    # First establish connection\n",
    "    mydb = mysql.connector.connect(\n",
    "        host=\"localhost\",\n",
    "        user=\"root\",\n",
    "        password=\"Gauri@123\",\n",
    "        database=\"Authorized_user\"  # Specify the database\n",
    "    )\n",
    "    \n",
    "    mycursor = mydb.cursor()\n",
    "    \n",
    "    # Show all tables\n",
    "    mycursor.execute(\"SHOW TABLES\")\n",
    "    \n",
    "    # Print tables in a clean format\n",
    "    print(\"\\nTables in the database:\")\n",
    "    print(\"-----------------------\")\n",
    "    for table in mycursor:\n",
    "        print(table[0])  # table[0] because the result is a tuple\n",
    "        \n",
    "except mysql.connector.Error as err:\n",
    "    print(f\"Error: {err}\")\n",
    "finally:\n",
    "    if 'mydb' in locals() and mydb.is_connected():\n",
    "        mycursor.close()\n",
    "        mydb.close()\n",
    "        print(\"\\nMySQL connection closed.\")"
   ]
  },
  {
   "cell_type": "code",
   "execution_count": null,
   "id": "8dae7cb9-39a0-4de9-8faa-e7acd3c493fa",
   "metadata": {},
   "outputs": [],
   "source": []
  }
 ],
 "metadata": {
  "kernelspec": {
   "display_name": "Python [conda env:base] *",
   "language": "python",
   "name": "conda-base-py"
  },
  "language_info": {
   "codemirror_mode": {
    "name": "ipython",
    "version": 3
   },
   "file_extension": ".py",
   "mimetype": "text/x-python",
   "name": "python",
   "nbconvert_exporter": "python",
   "pygments_lexer": "ipython3",
   "version": "3.12.7"
  }
 },
 "nbformat": 4,
 "nbformat_minor": 5
}
