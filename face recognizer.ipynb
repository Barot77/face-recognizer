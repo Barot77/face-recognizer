{
 "cells": [
  {
   "cell_type": "code",
   "execution_count": 2,
   "id": "5e9cfc3a-d863-4fe7-8855-572e10db2753",
   "metadata": {},
   "outputs": [
    {
     "name": "stdout",
     "output_type": "stream",
     "text": [
      "Requirement already satisfied: opencv-python in /opt/anaconda3/lib/python3.12/site-packages (4.11.0.86)\n",
      "Requirement already satisfied: numpy>=1.21.2 in /opt/anaconda3/lib/python3.12/site-packages (from opencv-python) (1.26.4)\n",
      "Note: you may need to restart the kernel to use updated packages.\n"
     ]
    }
   ],
   "source": [
    "pip install opencv-python"
   ]
  },
  {
   "cell_type": "code",
   "execution_count": 4,
   "id": "6db26b53-e597-475f-bd22-3b36f6f4bfe5",
   "metadata": {},
   "outputs": [
    {
     "name": "stderr",
     "output_type": "stream",
     "text": [
      "<>:12: SyntaxWarning: \"is\" with 'tuple' literal. Did you mean \"==\"?\n",
      "<>:12: SyntaxWarning: \"is\" with 'tuple' literal. Did you mean \"==\"?\n",
      "/var/folders/q1/fyn7446x64g16rk1mnrvswd00000gn/T/ipykernel_13353/59911529.py:12: SyntaxWarning: \"is\" with 'tuple' literal. Did you mean \"==\"?\n",
      "  if faces is ():\n",
      "2025-03-27 02:07:07.258 python[13353:484950] +[IMKClient subclass]: chose IMKClient_Modern\n",
      "2025-03-27 02:07:07.258 python[13353:484950] +[IMKInputSession subclass]: chose IMKInputSession_Modern\n"
     ]
    },
    {
     "name": "stdout",
     "output_type": "stream",
     "text": [
      "Collecting samples is completed....\n"
     ]
    }
   ],
   "source": [
    "import cv2\n",
    "\n",
    "def generate_dataset():\n",
    "    face_classifier = cv2.CascadeClassifier(\"haarcascade_frontalface_default.xml\")\n",
    "    \n",
    "    def face_cropped(img):\n",
    "        gray = cv2.cvtColor(img, cv2.COLOR_BGR2GRAY)\n",
    "        faces = face_classifier.detectMultiScale(gray, 1.3, 5)\n",
    "        # scaling factor = 1.3\n",
    "        # minimum neighbor = 5\n",
    "        \n",
    "        if faces is ():\n",
    "            return None\n",
    "        \n",
    "        for (x,y,w,h) in faces:\n",
    "            cropped_face = img[y:y+h, x:x+w]\n",
    "            return cropped_face\n",
    "        \n",
    "    cap = cv2.VideoCapture(0)  # Changed to 0 for default camera\n",
    "    id = 1\n",
    "    img_id = 0\n",
    "    \n",
    "    while True:\n",
    "        ret, frame = cap.read()\n",
    "        if face_cropped(frame) is not None:\n",
    "            img_id += 1\n",
    "            face = cv2.resize(face_cropped(frame), (200,200))\n",
    "            face = cv2.cvtColor(face, cv2.COLOR_BGR2GRAY)\n",
    "            file_name_path = \"data/user.\"+str(id)+\".\"+str(img_id)+\".jpg\"\n",
    "            cv2.imwrite(file_name_path, face)\n",
    "            cv2.putText(face, str(img_id), (50,50), cv2.FONT_HERSHEY_COMPLEX, 1, (0,255,0), 2)\n",
    "            \n",
    "            cv2.imshow(\"Cropped face\", face)\n",
    "        \n",
    "        if cv2.waitKey(1)==13 or int(img_id)==200:  # 13 is the ASCII character of Enter\n",
    "            break\n",
    "    \n",
    "    cap.release()\n",
    "    cv2.destroyAllWindows()\n",
    "    print(\"Collecting samples is completed....\")\n",
    "\n",
    "# Call the function\n",
    "generate_dataset()"
   ]
  },
  {
   "cell_type": "code",
   "execution_count": 6,
   "id": "e1c2a1e2-0afa-4561-b8b3-aa344f3ad200",
   "metadata": {},
   "outputs": [
    {
     "name": "stdout",
     "output_type": "stream",
     "text": [
      "Requirement already satisfied: pillow in /opt/anaconda3/lib/python3.12/site-packages (10.4.0)\n",
      "Note: you may need to restart the kernel to use updated packages.\n"
     ]
    }
   ],
   "source": [
    "pip install pillow"
   ]
  },
  {
   "cell_type": "code",
   "execution_count": 8,
   "id": "afec7412-4606-4153-9712-c25a46f111ff",
   "metadata": {},
   "outputs": [
    {
     "name": "stdout",
     "output_type": "stream",
     "text": [
      "Requirement already satisfied: opencv-contrib-python in /opt/anaconda3/lib/python3.12/site-packages (4.11.0.86)\n",
      "Requirement already satisfied: numpy>=1.21.2 in /opt/anaconda3/lib/python3.12/site-packages (from opencv-contrib-python) (1.26.4)\n",
      "Note: you may need to restart the kernel to use updated packages.\n"
     ]
    }
   ],
   "source": [
    "pip install opencv-contrib-python"
   ]
  },
  {
   "cell_type": "code",
   "execution_count": 10,
   "id": "c3d249d1-f519-462b-bcac-1b5af42aa665",
   "metadata": {},
   "outputs": [],
   "source": [
    "import os\n",
    "import cv2\n",
    "from PIL import Image #pip install pillow\n",
    "import numpy as np    # pip install numpy"
   ]
  },
  {
   "cell_type": "code",
   "execution_count": 12,
   "id": "2409564b-a794-4735-a2ee-7f7a435f6ce9",
   "metadata": {},
   "outputs": [
    {
     "name": "stdout",
     "output_type": "stream",
     "text": [
      "Training completed successfully\n"
     ]
    }
   ],
   "source": [
    "import os\n",
    "import cv2\n",
    "import numpy as np\n",
    "from PIL import Image\n",
    "\n",
    "def train_classifier(data_dir):\n",
    "    # Check if directory exists\n",
    "    if not os.path.exists(data_dir):\n",
    "        raise Exception(f\"Directory {data_dir} does not exist\")\n",
    "        \n",
    "    # Get list of image paths\n",
    "    path = [os.path.join(data_dir, f) for f in os.listdir(data_dir) if f.endswith('.jpg')]\n",
    "    \n",
    "    if len(path) == 0:\n",
    "        raise Exception(f\"No images found in {data_dir}\")\n",
    "    \n",
    "    faces = []\n",
    "    ids = []\n",
    "    \n",
    "    for image in path:\n",
    "        try:\n",
    "            # Open and convert image to grayscale\n",
    "            img = Image.open(image).convert('L')\n",
    "            imageNp = np.array(img, 'uint8')\n",
    "            \n",
    "            # Extract ID from filename\n",
    "            id = int(os.path.split(image)[1].split(\".\")[1])\n",
    "            \n",
    "            faces.append(imageNp)\n",
    "            ids.append(id)\n",
    "            \n",
    "        except Exception as e:\n",
    "            print(f\"Error processing image {image}: {str(e)}\")\n",
    "            continue\n",
    "    \n",
    "    if len(faces) == 0:\n",
    "        raise Exception(\"No faces could be processed\")\n",
    "    \n",
    "    ids = np.array(ids)\n",
    "    \n",
    "    try:\n",
    "        # Train and save classifier\n",
    "        clf = cv2.face.LBPHFaceRecognizer_create()\n",
    "        clf.train(faces, ids)\n",
    "        clf.write(\"classifier.xml\")\n",
    "        print(\"Training completed successfully\")\n",
    "    except Exception as e:\n",
    "        print(f\"Error during training: {str(e)}\")\n",
    "\n",
    "# Call the function\n",
    "try:\n",
    "    train_classifier(\"data\")\n",
    "except Exception as e:\n",
    "    print(f\"Error: {str(e)}\")"
   ]
  },
  {
   "cell_type": "code",
   "execution_count": 13,
   "id": "6211ec92-0c62-4e5f-896e-135cb4ea8d10",
   "metadata": {},
   "outputs": [],
   "source": [
    "import cv2\n",
    "import numpy as np\n",
    "from PIL import Image\n",
    "import os"
   ]
  },
  {
   "cell_type": "code",
   "execution_count": 16,
   "id": "bf10bb34-f106-490d-bc8a-b07e9b625fa2",
   "metadata": {},
   "outputs": [],
   "source": [
    "def draw_boundary(img, classifier, scaleFactor, minNeighbors, color, text, clf):\n",
    "    gray_img = cv2.cvtColor(img, cv2.COLOR_BGR2GRAY)\n",
    "    features = classifier.detectMultiScale(gray_img, scaleFactor, minNeighbors)\n",
    "    \n",
    "    for (x,y,w,h) in features:\n",
    "        cv2.rectangle(img, (x,y), (x+w,y+h), color, 2)\n",
    "        \n",
    "        face_roi = gray_img[y:y+h, x:x+w]\n",
    "        face_roi = cv2.resize(face_roi, (200, 200))\n",
    "        \n",
    "        id, pred = clf.predict(face_roi)\n",
    "        confidence = int(100*(1-pred/300))\n",
    "        \n",
    "        if confidence > 80:\n",
    "            if id == 1:\n",
    "                cv2.putText(img, \"Gauri\", (x,y-5), cv2.FONT_HERSHEY_SIMPLEX, 0.8, color, 1, cv2.LINE_AA)\n",
    "            if id == 2:\n",
    "                cv2.putText(img, \"Simran\", (x,y-5), cv2.FONT_HERSHEY_SIMPLEX, 0.8, color, 1, cv2.LINE_AA)\n",
    "            if id == 3:\n",
    "                cv2.putText(img, \"Ridhhi\", (x,y-5), cv2.FONT_HERSHEY_SIMPLEX, 0.8, color, 1, cv2.LINE_AA)\n",
    "            if id == 4:\n",
    "                cv2.putText(img, \"Neel\", (x,y-5), cv2.FONT_HERSHEY_SIMPLEX, 0.8, color, 1, cv2.LINE_AA)\n",
    "            \n",
    "        else:\n",
    "            cv2.putText(img, \"UNKNOWN\", (x,y-5), cv2.FONT_HERSHEY_SIMPLEX, 0.8, (0,0,255), 1, cv2.LINE_AA)\n",
    "    \n",
    "    return img\n",
    "\n",
    "# Loading classifier\n",
    "faceCascade = cv2.CascadeClassifier(\"haarcascade_frontalface_default.xml\")\n",
    "\n",
    "# Initialize face recognizer\n",
    "clf = cv2.face.LBPHFaceRecognizer_create()\n",
    "clf.read(\"classifier.xml\")\n",
    "\n",
    "# Initialize video capture with default camera (index 0)\n",
    "video_capture = cv2.VideoCapture(0)  # Changed from 1 to 0\n",
    "\n",
    "# Check if camera opened successfully\n",
    "if not video_capture.isOpened():\n",
    "    print(\"Error: Could not open camera\")\n",
    "    exit()\n",
    "\n",
    "while True:\n",
    "    ret, img = video_capture.read()\n",
    "    if not ret:\n",
    "        print(\"Failed to grab frame\")\n",
    "        break\n",
    "        \n",
    "    img = draw_boundary(img, faceCascade, 1.3, 6, (255,255,255), \"Face\", clf)\n",
    "    cv2.imshow(\"Face Detection\", img)\n",
    "    \n",
    "    if cv2.waitKey(1) == 13:  # Enter key\n",
    "        break\n",
    "\n",
    "video_capture.release()\n",
    "cv2.destroyAllWindows()"
   ]
  },
  {
   "cell_type": "code",
   "execution_count": null,
   "id": "e97a6453-a99d-41b6-8152-0ad9d5ec5daa",
   "metadata": {},
   "outputs": [],
   "source": []
  },
  {
   "cell_type": "code",
   "execution_count": null,
   "id": "f5700deb-7331-4996-ba94-dd4236bd6db9",
   "metadata": {},
   "outputs": [],
   "source": []
  },
  {
   "cell_type": "code",
   "execution_count": null,
   "id": "ab7ace06-2068-4ca6-bf69-54d4966f7e37",
   "metadata": {},
   "outputs": [],
   "source": []
  }
 ],
 "metadata": {
  "kernelspec": {
   "display_name": "Python [conda env:base] *",
   "language": "python",
   "name": "conda-base-py"
  },
  "language_info": {
   "codemirror_mode": {
    "name": "ipython",
    "version": 3
   },
   "file_extension": ".py",
   "mimetype": "text/x-python",
   "name": "python",
   "nbconvert_exporter": "python",
   "pygments_lexer": "ipython3",
   "version": "3.12.7"
  }
 },
 "nbformat": 4,
 "nbformat_minor": 5
}
